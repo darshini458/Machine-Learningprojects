{
  "nbformat": 4,
  "nbformat_minor": 0,
  "metadata": {
    "colab": {
      "provenance": [],
      "authorship_tag": "ABX9TyPx5NXVFjIibYzjuYKxR4gf",
      "include_colab_link": true
    },
    "kernelspec": {
      "name": "python3",
      "display_name": "Python 3"
    },
    "language_info": {
      "name": "python"
    }
  },
  "cells": [
    {
      "cell_type": "markdown",
      "metadata": {
        "id": "view-in-github",
        "colab_type": "text"
      },
      "source": [
        "<a href=\"https://colab.research.google.com/github/darshini458/Machine-Learningprojects/blob/main/Classification_using_Scikit.ipynb\" target=\"_parent\"><img src=\"https://colab.research.google.com/assets/colab-badge.svg\" alt=\"Open In Colab\"/></a>"
      ]
    },
    {
      "cell_type": "code",
      "execution_count": null,
      "metadata": {
        "colab": {
          "base_uri": "https://localhost:8080/"
        },
        "id": "C8GAJ8f3MHZa",
        "outputId": "5256a142-f0cd-4b5f-d31d-ff3bda9f5fd4"
      },
      "outputs": [
        {
          "output_type": "execute_result",
          "data": {
            "text/plain": [
              "[1, 1, 0, 1]"
            ]
          },
          "metadata": {},
          "execution_count": 12
        }
      ],
      "source": [
        "import numpy as np\n",
        "x=np.array([[1,1],[1,0],[0,0],[1,0]])\n",
        "w=np.array([1,1])\n",
        "b=-0.5\n",
        "pred=[]\n",
        "for a in x:\n",
        "    y=np.dot(a,w)+b\n",
        "    pred.append(activate(y))\n",
        "pred"
      ]
    },
    {
      "cell_type": "code",
      "source": [
        "def activate(z):\n",
        "    if z >= 0:\n",
        "      return 1\n",
        "    else:\n",
        "      return 0\n"
      ],
      "metadata": {
        "id": "wNfxMhERUNV-"
      },
      "execution_count": null,
      "outputs": []
    },
    {
      "cell_type": "code",
      "source": [
        "import numpy as np\n",
        "epochs=100\n",
        "bias=0\n",
        "alpha=0.2\n",
        "w0=np.random.random()\n",
        "w1=np.random.random()\n",
        "w2=np.random.random()\n",
        "a=np.array([[1,0,1],[1,1,1],[0,1,0],[0,0,0],[0,1,1],[1,0,0]])\n",
        "output=np.array([1,0,1,1,1,0])\n",
        "for i in range(epochs):\n",
        "  for x in a:\n",
        "    y=w0*x[0]+w1*x[1]+w2*x[2]+bias\n",
        "    y=activate(y)\n"
      ],
      "metadata": {
        "id": "aAkCaMM6Jg4p"
      },
      "execution_count": null,
      "outputs": []
    },
    {
      "cell_type": "code",
      "source": [
        "def activate(z):\n",
        "  j=0\n",
        "  if z>=0:\n",
        "    act=1\n",
        "  else:\n",
        "    act= 0\n",
        "  err=output[j]-act\n",
        "  del1=alpha*x[0]*err\n",
        "  del2=alpha*x[1]*err\n",
        "  del3=alpha*x[2]*err\n",
        "  w0=w0+del1\n",
        "  w1=w1+del2\n",
        "  w2=w2+del3\n",
        "  j=j+1\n",
        "  print(f\"epoch {epoch+1} error: {err}\")\n",
        "  print(del1,del2,del3)\n",
        "print(w0,w1,w2)"
      ],
      "metadata": {
        "colab": {
          "base_uri": "https://localhost:8080/"
        },
        "id": "PNVONXGeKcMH",
        "outputId": "13cddd8b-491e-412f-ce4b-7237d62a043d"
      },
      "execution_count": null,
      "outputs": [
        {
          "output_type": "stream",
          "name": "stdout",
          "text": [
            "0.8521405491228308 0.8566288484835338 0.3225504358955885\n"
          ]
        }
      ]
    }
  ]
}